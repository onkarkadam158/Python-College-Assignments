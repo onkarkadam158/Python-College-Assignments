{
  "nbformat": 4,
  "nbformat_minor": 0,
  "metadata": {
    "colab": {
      "name": "Assignment5.ipynb",
      "provenance": [],
      "collapsed_sections": [],
      "include_colab_link": true
    },
    "kernelspec": {
      "name": "python3",
      "display_name": "Python 3"
    }
  },
  "cells": [
    {
      "cell_type": "markdown",
      "metadata": {
        "id": "view-in-github",
        "colab_type": "text"
      },
      "source": [
        "<a href=\"https://colab.research.google.com/github/onkarkadam158/Python-College-Assignments/blob/master/Assignment5.ipynb\" target=\"_parent\"><img src=\"https://colab.research.google.com/assets/colab-badge.svg\" alt=\"Open In Colab\"/></a>"
      ]
    },
    {
      "cell_type": "code",
      "metadata": {
        "id": "irgC0i5lByA0",
        "colab_type": "code",
        "colab": {}
      },
      "source": [
        ""
      ],
      "execution_count": 0,
      "outputs": []
    },
    {
      "cell_type": "markdown",
      "metadata": {
        "id": "3harPD66Fv-J",
        "colab_type": "text"
      },
      "source": [
        "## **Assignment 5 Queue**"
      ]
    },
    {
      "cell_type": "markdown",
      "metadata": {
        "id": "IJxTd2R8EABj",
        "colab_type": "text"
      },
      "source": [
        "5. Write a python program to perform operations on queue.\n",
        "\n",
        "> Indented block\n",
        "\n"
      ]
    },
    {
      "cell_type": "code",
      "metadata": {
        "id": "udDSfoHVF0Y_",
        "colab_type": "code",
        "outputId": "a0521ed3-7d8f-49c4-c7a4-062dcd7e74e5",
        "colab": {
          "base_uri": "https://localhost:8080/",
          "height": 336
        }
      },
      "source": [
        "class Queue:\n",
        "    def __init__(self):\n",
        "        self.items = []\n",
        " \n",
        "    def is_empty(self):\n",
        "        return self.items == []\n",
        " \n",
        "    def enqueue(self, data):\n",
        "        self.items.append(data)\n",
        " \n",
        "    def dequeue(self):\n",
        "        return self.items.pop(0)\n",
        " \n",
        " \n",
        "q = Queue()\n",
        "while True:\n",
        "    print('What would you like to do? enqueue or dequeue')\n",
        "    operation = str(input())\n",
        "    if operation == 'enqueue':\n",
        "        print(\"Enter element to add\")\n",
        "        ele = input()\n",
        "        q.enqueue(ele)\n",
        "        print(\"Queue is:\" , q.items)\n",
        "    elif operation == 'dequeue':\n",
        "        if q.is_empty():\n",
        "            print('Queue is empty.')\n",
        "        else:\n",
        "            print('Dequeued value: ', q.dequeue())\n",
        "            print(\"Queue is:\" , q.items)\n",
        "break"
      ],
      "execution_count": 0,
      "outputs": [
        {
          "output_type": "stream",
          "text": [
            "What would you like to do? enqueue or dequeue\n",
            "Enter element to add\n",
            "Queue is: ['ab']\n",
            "What would you like to do? enqueue or dequeue\n",
            "Enter element to add\n",
            "Queue is: ['ab', 'cd']\n",
            "What would you like to do? enqueue or dequeue\n",
            "Dequeued value:  ab\n",
            "Queue is: ['cd']\n",
            "What would you like to do? enqueue or dequeue\n",
            "Dequeued value:  cd\n",
            "Queue is: []\n",
            "What would you like to do? enqueue or dequeue\n",
            "Queue is empty.\n",
            "What would you like to do? enqueue or dequeue\n",
            "What would you like to do? enqueue or dequeue\n",
            "Enter element to add\n",
            "Queue is: ['done']\n",
            "What would you like to do? enqueue or dequeue\n"
          ],
          "name": "stdout"
        }
      ]
    }
  ]
}