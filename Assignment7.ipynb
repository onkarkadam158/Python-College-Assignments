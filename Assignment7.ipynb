{
  "nbformat": 4,
  "nbformat_minor": 0,
  "metadata": {
    "colab": {
      "name": "Assignment7.ipynb",
      "provenance": [],
      "collapsed_sections": [],
      "include_colab_link": true
    },
    "kernelspec": {
      "name": "python3",
      "display_name": "Python 3"
    }
  },
  "cells": [
    {
      "cell_type": "markdown",
      "metadata": {
        "id": "view-in-github",
        "colab_type": "text"
      },
      "source": [
        "<a href=\"https://colab.research.google.com/github/onkarkadam158/Python-College-Assignments/blob/master/Assignment7.ipynb\" target=\"_parent\"><img src=\"https://colab.research.google.com/assets/colab-badge.svg\" alt=\"Open In Colab\"/></a>"
      ]
    },
    {
      "cell_type": "code",
      "metadata": {
        "id": "EVfTcMSrFuJm",
        "colab_type": "code",
        "colab": {}
      },
      "source": [
        ""
      ],
      "execution_count": 0,
      "outputs": []
    },
    {
      "cell_type": "markdown",
      "metadata": {
        "id": "lvNZQ9pCFy2O",
        "colab_type": "text"
      },
      "source": [
        "# Assignment7"
      ]
    },
    {
      "cell_type": "markdown",
      "metadata": {
        "id": "M_90wTf2F2x3",
        "colab_type": "text"
      },
      "source": [
        "7. Write a python function which accepts a stack of integers, sort it in \n",
        "\n",
        "---\n",
        "\n",
        "ascending order and return the sorted stack. "
      ]
    },
    {
      "cell_type": "code",
      "metadata": {
        "id": "-kXrlHRxF16b",
        "colab_type": "code",
        "outputId": "d75671c1-74b1-48ae-db14-7f28c6228c45",
        "colab": {
          "base_uri": "https://localhost:8080/",
          "height": 202
        }
      },
      "source": [
        "def stack_sort(lst):\n",
        "  lst.sort()\n",
        "  return lst\n",
        "\n",
        "lst = []\n",
        "print(\"Enter no. of integers to be be input in the stack\")\n",
        "a = int(input())\n",
        "for i in range ( 0, a):\n",
        "  print(\"Enter next\")\n",
        "  b = int (input())\n",
        "  lst.append(b)\n",
        "print(stack_sort(lst))"
      ],
      "execution_count": 0,
      "outputs": [
        {
          "output_type": "stream",
          "text": [
            "Enter no. of integers to be be input in the stack\n",
            "4\n",
            "Enter next\n",
            "1\n",
            "Enter next\n",
            "6\n",
            "Enter next\n",
            "3\n",
            "Enter next\n",
            "4\n",
            "[1, 3, 4, 6]\n"
          ],
          "name": "stdout"
        }
      ]
    },
    {
      "cell_type": "code",
      "metadata": {
        "id": "2OB2tCtvO_Fs",
        "colab_type": "code",
        "colab": {}
      },
      "source": [
        ""
      ],
      "execution_count": 0,
      "outputs": []
    }
  ]
}