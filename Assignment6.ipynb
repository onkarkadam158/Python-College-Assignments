{
  "nbformat": 4,
  "nbformat_minor": 0,
  "metadata": {
    "colab": {
      "name": "Assignment6",
      "provenance": [],
      "collapsed_sections": [],
      "include_colab_link": true
    },
    "kernelspec": {
      "name": "python3",
      "display_name": "Python 3"
    }
  },
  "cells": [
    {
      "cell_type": "markdown",
      "metadata": {
        "id": "view-in-github",
        "colab_type": "text"
      },
      "source": [
        "<a href=\"https://colab.research.google.com/github/onkarkadam158/Python-College-Assignments/blob/master/Assignment6.ipynb\" target=\"_parent\"><img src=\"https://colab.research.google.com/assets/colab-badge.svg\" alt=\"Open In Colab\"/></a>"
      ]
    },
    {
      "cell_type": "code",
      "metadata": {
        "id": "3PP--AFhEKjb",
        "colab_type": "code",
        "colab": {}
      },
      "source": [
        ""
      ],
      "execution_count": 0,
      "outputs": []
    },
    {
      "cell_type": "markdown",
      "metadata": {
        "id": "3czGGH5xFRJm",
        "colab_type": "text"
      },
      "source": [
        "# **Assignment6**"
      ]
    },
    {
      "cell_type": "markdown",
      "metadata": {
        "id": "1JQ0lMHLFTNF",
        "colab_type": "text"
      },
      "source": [
        "6. Write a python function which accepts two linked lists containing integer data and an integer, n and merges two linked lists, such that list2 is merged with the list1 after n number of nodes."
      ]
    },
    {
      "cell_type": "code",
      "metadata": {
        "id": "YQWpREYqdqRl",
        "colab_type": "code",
        "outputId": "c6cdc6e6-b579-44d6-ffe1-94588b111821",
        "colab": {
          "base_uri": "https://localhost:8080/",
          "height": 67
        }
      },
      "source": [
        "class node():\n",
        "    def __init__(self, data, next_node = None):\n",
        "        self.data = data\n",
        "        self.next_node = next_node\n",
        "\n",
        "    def get_data(self):\n",
        "        return self.data\n",
        "\n",
        "    def get_next(self):\n",
        "        return self.next_node\n",
        "\n",
        "    def set_next(self, new_node):\n",
        "        self.next_node = new_node\n",
        "\n",
        "class LinkList(object):\n",
        "\n",
        "    def __init__(self, head = None):\n",
        "        self.head = head\n",
        "\n",
        "    def add(self, data):\n",
        "        new_node = node(data)\n",
        "        new_node.set_next(self.head)\n",
        "        self.head = new_node\n",
        "\n",
        "    def printlist(self):\n",
        "        current_node = self.head\n",
        "        while (current_node != None):\n",
        "            print (current_node.get_data(), end = \"->\")\n",
        "            current_node = current_node.get_next()\n",
        "        print ()\n",
        "\n",
        "def merge(L1, L2):\n",
        "\n",
        "    temp = None\n",
        "\n",
        "    if L1 is None:\n",
        "        return L2\n",
        "\n",
        "    if L2 is None:\n",
        "        return L1\n",
        "    if L1.data >= L2.data:\n",
        "        temp = L1\n",
        "        temp.next_node = merge(L1.next_node, L2)\n",
        "    else:\n",
        "        temp = L2\n",
        "        temp.next_node = merge(L1, L2.next_node)\n",
        "\n",
        "    return temp\n",
        "\n",
        "\n",
        "if __name__ == \"__main__\":\n",
        "    \n",
        "    list1 = LinkList()\n",
        "    list1.add(10)\n",
        "    list1.add(20)\n",
        "    list1.add(30)\n",
        "\n",
        "    print(\"list2: \", end=\" \" )\n",
        "    list1.printlist()\n",
        "\n",
        "    list2 = LinkList()\n",
        "    list2.add(11)\n",
        "    list2.add(21)\n",
        "    list2.add(51)\n",
        "    print(\"list2: \", end=\" \" )\n",
        "    list2.printlist()\n",
        "\n",
        "    list3 = LinkList()\n",
        "\n",
        "    list3.head = merge(list1.head, list2.head)\n",
        "    print(\"merge link list: \", end=\" \" )\n",
        "    list3.printlist()\n",
        "\n"
      ],
      "execution_count": 0,
      "outputs": [
        {
          "output_type": "stream",
          "text": [
            "list2:  30->20->10->\n",
            "list2:  51->21->11->\n",
            "merge link list:  51->30->21->20->11->10->\n"
          ],
          "name": "stdout"
        }
      ]
    },
    {
      "cell_type": "code",
      "metadata": {
        "id": "fUK5c7i5YLzP",
        "colab_type": "code",
        "colab": {}
      },
      "source": [
        ""
      ],
      "execution_count": 0,
      "outputs": []
    }
  ]
}