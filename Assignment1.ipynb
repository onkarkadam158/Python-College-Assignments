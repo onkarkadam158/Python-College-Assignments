{
  "nbformat": 4,
  "nbformat_minor": 0,
  "metadata": {
    "colab": {
      "name": "Assignment1.ipynb",
      "provenance": [],
      "collapsed_sections": [],
      "include_colab_link": true
    },
    "kernelspec": {
      "name": "python3",
      "display_name": "Python 3"
    }
  },
  "cells": [
    {
      "cell_type": "markdown",
      "metadata": {
        "id": "view-in-github",
        "colab_type": "text"
      },
      "source": [
        "<a href=\"https://colab.research.google.com/github/onkarkadam158/Python-College-Assignments/blob/master/Assignment1.ipynb\" target=\"_parent\"><img src=\"https://colab.research.google.com/assets/colab-badge.svg\" alt=\"Open In Colab\"/></a>"
      ]
    },
    {
      "cell_type": "markdown",
      "metadata": {
        "id": "gxkQALVXDlIs",
        "colab_type": "text"
      },
      "source": [
        "# **Assignment1**"
      ]
    },
    {
      "cell_type": "markdown",
      "metadata": {
        "id": "dVVonyWTDgGh",
        "colab_type": "text"
      },
      "source": [
        "1. Create a list of different data fields and use appropriate Python data types to represent each of them. (Case study: - You are required to design the data structure to display the individual player stats for cricket players. A player may have represented more than one team and may have played in more than one format such as Test, ODI and T20) "
      ]
    },
    {
      "cell_type": "markdown",
      "metadata": {
        "id": "XVZPA2x_O0wD",
        "colab_type": "text"
      },
      "source": [
        "**Team1 Batting Scores**"
      ]
    },
    {
      "cell_type": "code",
      "metadata": {
        "id": "iu5RbehFWMZv",
        "colab_type": "code",
        "colab": {}
      },
      "source": [
        "import pandas as pd\n",
        "print(\"Enter No.of batsmen played\")\n",
        "No = int(input())\n",
        "team1_batting = {}\n",
        "print(\"Enter Name, runs scored, Balls faced, Sixers , Fours, Strike Rate respectively \")\n",
        "for i in range (0 ,No):\n",
        "  name = str(input(\"Name:\"))\n",
        "  score = []\n",
        "  runs = int(input(\"Runs Scored:\"))\n",
        "  score.append(runs)\n",
        "\n",
        "  ball_faced = int(input(\"Ball faced:\"))\n",
        "  score.append(ball_faced)\n",
        "\n",
        "  six = int(input(\"Sixers:\"))\n",
        "  score.append(six)\n",
        "\n",
        "  fours = int(input(\"Fours:\"))\n",
        "  score.append(fours)\n",
        "\n",
        "  st_rate = float(input(\"Strike Rate\"))\n",
        "  score.append(st_rate)\n",
        "\n",
        "  team1_batting[name] = score  ;\n",
        "\n",
        "#print(team1_batting)\n",
        "df = pd.DataFrame(team1_batting , index= ['Runs','Balls_Faced' , 'Sixers','Fours','Strike_Rate'])\n",
        "df1=df.transpose()\n",
        "df1"
      ],
      "execution_count": 0,
      "outputs": []
    },
    {
      "cell_type": "markdown",
      "metadata": {
        "id": "YJt7biNpYMtw",
        "colab_type": "text"
      },
      "source": [
        "\n",
        "**Team1 Bowling score**"
      ]
    },
    {
      "cell_type": "code",
      "metadata": {
        "id": "NF_zW1moMvTH",
        "colab_type": "code",
        "outputId": "e6fbd225-1001-4747-beec-192549758e52",
        "colab": {
          "base_uri": "https://localhost:8080/",
          "height": 194
        }
      },
      "source": [
        "print(\"Enter No. of bowlers bowled\")\n",
        "No1 = int(input())\n",
        "team1_bowling = {}\n",
        "print(\"Enter Name , wickets he had taken , balls bowled, runs given respectively \")\n",
        "for i in range (0 ,No1):\n",
        "  name = str(input(\"Name:\"))\n",
        "  score = [] \n",
        "\n",
        "  wickets = int(input(\"Wickets:\"))\n",
        "  score.append(wickets)\n",
        "\n",
        "  ball_bowled = int(input(\"Balls Bowled:\"))\n",
        "  score.append(ball_bowled)\n",
        "\n",
        "  runs_given = int(input(\"Runs Given\"))\n",
        "  score.append(runs_given)\n",
        "\n",
        "  team1_bowling[name] = score ;\n",
        "\n",
        "df = pd.DataFrame(team1_bowling , index= ['Wickets','Balls_Bowled' , 'Runs_Given'])\n",
        "df1=df.transpose()\n",
        "df1\n"
      ],
      "execution_count": 0,
      "outputs": [
        {
          "output_type": "stream",
          "text": [
            "Enter No. of bowlers bowled\n",
            "1\n",
            "Enter Name , wickets he had taken , balls bowled, runs given respectively \n",
            "Name:asa\n",
            "Wickets:12\n",
            "Balls Bowled:12\n",
            "Runs Given12\n"
          ],
          "name": "stdout"
        },
        {
          "output_type": "execute_result",
          "data": {
            "text/html": [
              "<div>\n",
              "<style scoped>\n",
              "    .dataframe tbody tr th:only-of-type {\n",
              "        vertical-align: middle;\n",
              "    }\n",
              "\n",
              "    .dataframe tbody tr th {\n",
              "        vertical-align: top;\n",
              "    }\n",
              "\n",
              "    .dataframe thead th {\n",
              "        text-align: right;\n",
              "    }\n",
              "</style>\n",
              "<table border=\"1\" class=\"dataframe\">\n",
              "  <thead>\n",
              "    <tr style=\"text-align: right;\">\n",
              "      <th></th>\n",
              "      <th>Wickets</th>\n",
              "      <th>Balls_Bowled</th>\n",
              "      <th>Runs_Given</th>\n",
              "    </tr>\n",
              "  </thead>\n",
              "  <tbody>\n",
              "    <tr>\n",
              "      <th>asa</th>\n",
              "      <td>12</td>\n",
              "      <td>12</td>\n",
              "      <td>12</td>\n",
              "    </tr>\n",
              "  </tbody>\n",
              "</table>\n",
              "</div>"
            ],
            "text/plain": [
              "     Wickets  Balls_Bowled  Runs_Given\n",
              "asa       12            12          12"
            ]
          },
          "metadata": {
            "tags": []
          },
          "execution_count": 12
        }
      ]
    },
    {
      "cell_type": "markdown",
      "metadata": {
        "id": "PnviZAamaCE_",
        "colab_type": "text"
      },
      "source": [
        "**Team 2 Scores**"
      ]
    },
    {
      "cell_type": "markdown",
      "metadata": {
        "id": "RJZ1jvmEaH4u",
        "colab_type": "text"
      },
      "source": [
        "**Team 2 Batting Score**"
      ]
    },
    {
      "cell_type": "code",
      "metadata": {
        "id": "Gp64m65xO36t",
        "colab_type": "code",
        "outputId": "0c75092d-e078-4e86-93c0-a0879080d420",
        "colab": {
          "base_uri": "https://localhost:8080/",
          "height": 363
        }
      },
      "source": [
        "print(\"Enter No.of batsmen played\")\n",
        "No = int(input())\n",
        "team2_batting = {}\n",
        "print(\"Enter Name, runs scored, Balls faced, Sixers , Fours, Strike Rate respectively \")\n",
        "for i in range (0 ,No):\n",
        "  name = str(input(\"Name:\"))\n",
        "  score = []\n",
        "  runs = int(input(\"Runs Scored:\"))\n",
        "  score.append(runs)\n",
        "\n",
        "  ball_faced = int(input(\"Ball faced:\"))\n",
        "  score.append(ball_faced)\n",
        "\n",
        "  six = int(input(\"Sixers:\"))\n",
        "  score.append(six)\n",
        "\n",
        "  fours = int(input(\"Fours:\"))\n",
        "  score.append(fours)\n",
        "\n",
        "  st_rate = float(input(\"Strike Rate\"))\n",
        "  score.append(st_rate)\n",
        "\n",
        "  team2_batting[name] = score  ;\n",
        "\n",
        "df = pd.DataFrame(team2_batting , index= ['Runs','Balls_Faced' , 'Sixers','Fours','Strike_Rate'])\n",
        "df1=df.transpose()\n",
        "df1"
      ],
      "execution_count": 0,
      "outputs": [
        {
          "output_type": "stream",
          "text": [
            "Enter No.of batsmen played\n",
            "1\n",
            "Enter Name, runs scored, Balls faced, Sixers , Fours, Strike Rate respectively \n",
            "Name:qw\n",
            "Runs Scored:12\n",
            "Ball faced:12\n",
            "Sixers:12\n",
            "Fours:`1\n"
          ],
          "name": "stdout"
        },
        {
          "output_type": "error",
          "ename": "ValueError",
          "evalue": "ignored",
          "traceback": [
            "\u001b[0;31m---------------------------------------------------------------------------\u001b[0m",
            "\u001b[0;31mValueError\u001b[0m                                Traceback (most recent call last)",
            "\u001b[0;32m<ipython-input-13-670272898271>\u001b[0m in \u001b[0;36m<module>\u001b[0;34m()\u001b[0m\n\u001b[1;32m     15\u001b[0m   \u001b[0mscore\u001b[0m\u001b[0;34m.\u001b[0m\u001b[0mappend\u001b[0m\u001b[0;34m(\u001b[0m\u001b[0msix\u001b[0m\u001b[0;34m)\u001b[0m\u001b[0;34m\u001b[0m\u001b[0;34m\u001b[0m\u001b[0m\n\u001b[1;32m     16\u001b[0m \u001b[0;34m\u001b[0m\u001b[0m\n\u001b[0;32m---> 17\u001b[0;31m   \u001b[0mfours\u001b[0m \u001b[0;34m=\u001b[0m \u001b[0mint\u001b[0m\u001b[0;34m(\u001b[0m\u001b[0minput\u001b[0m\u001b[0;34m(\u001b[0m\u001b[0;34m\"Fours:\"\u001b[0m\u001b[0;34m)\u001b[0m\u001b[0;34m)\u001b[0m\u001b[0;34m\u001b[0m\u001b[0;34m\u001b[0m\u001b[0m\n\u001b[0m\u001b[1;32m     18\u001b[0m   \u001b[0mscore\u001b[0m\u001b[0;34m.\u001b[0m\u001b[0mappend\u001b[0m\u001b[0;34m(\u001b[0m\u001b[0mfours\u001b[0m\u001b[0;34m)\u001b[0m\u001b[0;34m\u001b[0m\u001b[0;34m\u001b[0m\u001b[0m\n\u001b[1;32m     19\u001b[0m \u001b[0;34m\u001b[0m\u001b[0m\n",
            "\u001b[0;31mValueError\u001b[0m: invalid literal for int() with base 10: '`1'"
          ]
        }
      ]
    },
    {
      "cell_type": "markdown",
      "metadata": {
        "id": "mlOZIbO5aRg0",
        "colab_type": "text"
      },
      "source": [
        "**Team 2 Bowling**"
      ]
    },
    {
      "cell_type": "code",
      "metadata": {
        "id": "XB9lABLBOYGL",
        "colab_type": "code",
        "outputId": "b6f3efb1-1915-4c87-a2f5-e2049d0bcb7f",
        "colab": {
          "base_uri": "https://localhost:8080/",
          "height": 194
        }
      },
      "source": [
        "print(\"Enter No. of bowlers bowled\")\n",
        "No1 = int(input())\n",
        "team2_bowling = {}\n",
        "print(\"Enter Name , wickets he had taken , balls bowled, runs given respectively \")\n",
        "for i in range (0 ,No1):\n",
        "  name = str(input(\"Name:\"))\n",
        "  score = [] \n",
        "\n",
        "  wickets = int(input(\"Wickets:\"))\n",
        "  score.append(wickets)\n",
        "\n",
        "  ball_bowled = int(input(\"Balls Bowled:\"))\n",
        "  score.append(ball_bowled)\n",
        "\n",
        "  runs_given = int(input(\"Runs Given\"))\n",
        "  score.append(runs_given)\n",
        "\n",
        "  team2_bowling[name] = score ;\n",
        "\n",
        "df = pd.DataFrame(team2_bowling , index= ['Wickets','Balls_Bowled' , 'Runs_Given'])\n",
        "df1=df.transpose()\n",
        "df1\n"
      ],
      "execution_count": 0,
      "outputs": [
        {
          "output_type": "stream",
          "text": [
            "Enter No. of bowlers bowled\n",
            "1\n",
            "Enter Name , wickets he had taken , balls bowled, runs given respectively \n",
            "Name:wdq\n",
            "Wickets:12\n",
            "Balls Bowled:12\n",
            "Runs Given12\n"
          ],
          "name": "stdout"
        },
        {
          "output_type": "execute_result",
          "data": {
            "text/html": [
              "<div>\n",
              "<style scoped>\n",
              "    .dataframe tbody tr th:only-of-type {\n",
              "        vertical-align: middle;\n",
              "    }\n",
              "\n",
              "    .dataframe tbody tr th {\n",
              "        vertical-align: top;\n",
              "    }\n",
              "\n",
              "    .dataframe thead th {\n",
              "        text-align: right;\n",
              "    }\n",
              "</style>\n",
              "<table border=\"1\" class=\"dataframe\">\n",
              "  <thead>\n",
              "    <tr style=\"text-align: right;\">\n",
              "      <th></th>\n",
              "      <th>Wickets</th>\n",
              "      <th>Balls_Bowled</th>\n",
              "      <th>Runs_Given</th>\n",
              "    </tr>\n",
              "  </thead>\n",
              "  <tbody>\n",
              "    <tr>\n",
              "      <th>wdq</th>\n",
              "      <td>12</td>\n",
              "      <td>12</td>\n",
              "      <td>12</td>\n",
              "    </tr>\n",
              "  </tbody>\n",
              "</table>\n",
              "</div>"
            ],
            "text/plain": [
              "     Wickets  Balls_Bowled  Runs_Given\n",
              "wdq       12            12          12"
            ]
          },
          "metadata": {
            "tags": []
          },
          "execution_count": 14
        }
      ]
    },
    {
      "cell_type": "code",
      "metadata": {
        "id": "ZzzKC1T6eJyY",
        "colab_type": "code",
        "colab": {}
      },
      "source": [
        ""
      ],
      "execution_count": 0,
      "outputs": []
    }
  ]
}