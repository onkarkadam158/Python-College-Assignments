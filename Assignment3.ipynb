{
  "nbformat": 4,
  "nbformat_minor": 0,
  "metadata": {
    "colab": {
      "name": "Assignment3",
      "provenance": [],
      "collapsed_sections": [],
      "include_colab_link": true
    },
    "kernelspec": {
      "name": "python3",
      "display_name": "Python 3"
    }
  },
  "cells": [
    {
      "cell_type": "markdown",
      "metadata": {
        "id": "view-in-github",
        "colab_type": "text"
      },
      "source": [
        "<a href=\"https://colab.research.google.com/github/onkarkadam158/Python-College-Assignments/blob/master/Assignment3.ipynb\" target=\"_parent\"><img src=\"https://colab.research.google.com/assets/colab-badge.svg\" alt=\"Open In Colab\"/></a>"
      ]
    },
    {
      "cell_type": "code",
      "metadata": {
        "id": "XXr-gfOLBpUq",
        "colab_type": "code",
        "colab": {}
      },
      "source": [
        ""
      ],
      "execution_count": 0,
      "outputs": []
    },
    {
      "cell_type": "markdown",
      "metadata": {
        "id": "D8_SjJzEBvR6",
        "colab_type": "text"
      },
      "source": [
        "## **Assignment3**"
      ]
    },
    {
      "cell_type": "markdown",
      "metadata": {
        "id": "75Z-G7QlDVFf",
        "colab_type": "text"
      },
      "source": [
        "3. Design a ‘book’ class with title, author, publisher, price and author’s royalty as instance variables. Provide getter and setter properties for all variables. Also define a method royalty() to calculate royalty amount author can expect to receive the following royalties:10% of the retail price on the first 500 copies; 12.5% for the next 1,000 copies sold, then 15% for all further copies sold.         Then design a new ‘ebook’ class inherited from ‘book’ class. Add ebook format (EPUB,    PDF, MOBI etc) as additional instance variable in inherited class.  Override royalty() method to deduct GST @12% on ebooks"
      ]
    },
    {
      "cell_type": "code",
      "metadata": {
        "id": "HP8tK-3eDXbQ",
        "colab_type": "code",
        "outputId": "836ae6eb-758f-4031-d11b-e0f9ee227f81",
        "colab": {
          "base_uri": "https://localhost:8080/",
          "height": 101
        }
      },
      "source": [
        "class Book:\n",
        "  def _init_(self , title , author , publisher , price , royalty , copies):\n",
        "    self.title = title \n",
        "    self.author = author\n",
        "    self.publisher = publisher\n",
        "    self.royalty = royalty\n",
        "    self.copies = copies\n",
        "  \n",
        "  def set_title(self , x):\n",
        "      self.title = x \n",
        "  def set_author(self , x):\n",
        "      self.author = x\n",
        "  def set_publisher(self , x):\n",
        "      self.publisher = x\n",
        "  def set_price(self , x):\n",
        "      self.price = x\n",
        "  def set_copies(self , x):\n",
        "      self.copies = x\n",
        "\n",
        "  def get_title(self):\n",
        "      return self.title\n",
        "  def get_author (self):\n",
        "      return self.author\n",
        "  def get_publisher(self):\n",
        "      return self.publisher\n",
        "  def get_price(self):\n",
        "      return self.price\n",
        "\n",
        "  def royalty_method(self):\n",
        "    if self.copies <= 500 :\n",
        "      self.royalty  = 0.1*self.price*self.copies \n",
        "    if self.copies > 500 and self.copies <= 1500:\n",
        "      self.royalty = 0.1*self.price*500 + 0.125*self.price*(self.copies - 500)\n",
        "    if self.copies > 1500 :\n",
        "      self.royalty = 0.1*self.price*500 + 0.125*self.price*1000 + 0.15*self.price*(self.copies - 1500)\n",
        "\n",
        "    return self.royalty\n",
        "  \n",
        "\n",
        "B1 = Book()\n",
        "B1.set_title(\"Mahanayak\")\n",
        "B1.set_author(\"Vishwas_Patil\")\n",
        "B1.set_publisher(\"Rajahans\")\n",
        "B1.set_price(500)\n",
        "print(\"Title of the book is : \" , B1.get_title())\n",
        "print(\"Author of the book is : \"  , B1.get_author())\n",
        "print(\"Publisher of the book is : \" , B1.get_publisher())\n",
        "print(\"Price of the book is : \" , B1.get_price())\n",
        "\n",
        "B1.set_copies(2000)\n",
        "B1.royalty_method()\n",
        "print(\"Royalty of a book is \" , B1.royalty_method())"
      ],
      "execution_count": 0,
      "outputs": [
        {
          "output_type": "stream",
          "text": [
            "Title of the book is :  Mahanayak\n",
            "Author of the book is :  Vishwas_Patil\n",
            "Publisher of the book is :  Rajahans\n",
            "Price of the book is :  500\n",
            "Royalty of a book is  125000.0\n"
          ],
          "name": "stdout"
        }
      ]
    },
    {
      "cell_type": "markdown",
      "metadata": {
        "id": "ZdyqVhzwGxKo",
        "colab_type": "text"
      },
      "source": [
        "Inheritance of Book Class"
      ]
    },
    {
      "cell_type": "code",
      "metadata": {
        "id": "RlmQZZdhMjAH",
        "colab_type": "code",
        "outputId": "6d968925-bf12-4726-8fe6-648c1406f719",
        "colab": {
          "base_uri": "https://localhost:8080/",
          "height": 118
        }
      },
      "source": [
        "class Ebook (Book):\n",
        "  def _init_(self , title , author , publisher , price , royalty , copies , format):\n",
        "    super()._init_(self , title , author , publisher , price , royalty , copies )\n",
        "    self.format = format\n",
        "  \n",
        "  def set_format(self , x):\n",
        "    self.format = x\n",
        "\n",
        "  def get_format(self):\n",
        "    return self.format   \n",
        "\n",
        "  def royalty_method(self):\n",
        "    if self.copies <= 500 :\n",
        "      self.royalty  = 0.1*self.price*self.copies \n",
        "    if self.copies > 500 and self.copies <= 1500:\n",
        "      self.royalty = 0.1*self.price*500 + 0.125*self.price*(self.copies - 500)\n",
        "    if self.copies > 1500 :\n",
        "      self.royalty = 0.1*self.price*500 + 0.125*self.price*1000 + 0.15*self.price*(self.copies - 1500)\n",
        "\n",
        "    return 0.88*self.royalty \n",
        "\n",
        "EB1 = Ebook()\n",
        "EB1.set_title(\"Panipat\")\n",
        "EB1.set_author(\"Vishwas_Patil\")\n",
        "EB1.set_publisher(\"Rajahans\")\n",
        "EB1.set_price(500)\n",
        "EB1.set_format(\"PDF\")\n",
        "print(\"Title of the book is : \" , EB1.get_title())\n",
        "print(\"Author of the book is : \"  , EB1.get_author())\n",
        "print(\"Publisher of the book is : \" , EB1.get_publisher())\n",
        "print(\"Price of the book is : \" , EB1.get_price())\n",
        "print(\"Format of the book is: \" , EB1.get_format())\n",
        "EB1.set_copies(2000)\n",
        "#EB1.royalty_method()\n",
        "print(\"Royalty of a book is \" , EB1.royalty_method())"
      ],
      "execution_count": 0,
      "outputs": [
        {
          "output_type": "stream",
          "text": [
            "Title of the book is :  Panipat\n",
            "Author of the book is :  Vishwas_Patil\n",
            "Publisher of the book is :  Rajahans\n",
            "Price of the book is :  500\n",
            "Format of the book is:  PDF\n",
            "Royalty of a book is  110000.0\n"
          ],
          "name": "stdout"
        }
      ]
    },
    {
      "cell_type": "code",
      "metadata": {
        "id": "4G3LJeWBKHNW",
        "colab_type": "code",
        "colab": {}
      },
      "source": [
        ""
      ],
      "execution_count": 0,
      "outputs": []
    }
  ]
}